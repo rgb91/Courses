{
 "cells": [
  {
   "cell_type": "markdown",
   "metadata": {},
   "source": [
    "# Python Numpy Vectors"
   ]
  },
  {
   "cell_type": "code",
   "execution_count": 14,
   "metadata": {
    "collapsed": false
   },
   "outputs": [
    {
     "name": "stdout",
     "output_type": "stream",
     "text": [
      "[ 1.31633691  0.68316884 -0.01082682 -0.57547569 -0.49628221]\n",
      "(5,)\n"
     ]
    }
   ],
   "source": [
    "import numpy as np\n",
    "\n",
    "A = np.random.randn(5) #DON'T USE THIS\n",
    "print(A)\n",
    "print(A.shape)"
   ]
  },
  {
   "cell_type": "code",
   "execution_count": 15,
   "metadata": {
    "collapsed": false
   },
   "outputs": [
    {
     "name": "stdout",
     "output_type": "stream",
     "text": [
      "[[ 0.60423713]\n",
      " [ 0.37477243]\n",
      " [ 0.67184514]\n",
      " [-1.11750803]\n",
      " [-1.53408104]]\n",
      "(5, 1)\n"
     ]
    }
   ],
   "source": [
    "B = np.random.randn(5,1)\n",
    "print(B)\n",
    "print(B.shape)"
   ]
  },
  {
   "cell_type": "code",
   "execution_count": 16,
   "metadata": {
    "collapsed": false
   },
   "outputs": [
    {
     "name": "stdout",
     "output_type": "stream",
     "text": [
      "[[ 0.60423713  0.37477243  0.67184514 -1.11750803 -1.53408104]]\n",
      "\n"
     ]
    }
   ],
   "source": [
    "print(B.T)\n",
    "print()"
   ]
  },
  {
   "cell_type": "code",
   "execution_count": 21,
   "metadata": {
    "collapsed": false
   },
   "outputs": [
    {
     "name": "stdout",
     "output_type": "stream",
     "text": [
      "[[ 0.36510251  0.22645141  0.40595377 -0.67523984 -0.92694872]\n",
      " [ 0.22645141  0.14045437  0.25178903 -0.4188112  -0.57493127]\n",
      " [ 0.40595377  0.25178903  0.45137589 -0.75079234 -1.03066489]\n",
      " [-0.67523984 -0.4188112  -0.75079234  1.24882421  1.71434789]\n",
      " [-0.92694872 -0.57493127 -1.03066489  1.71434789  2.35340465]]\n"
     ]
    }
   ],
   "source": [
    "RES = np.dot(B,B.T)\n",
    "print(RES)"
   ]
  },
  {
   "cell_type": "code",
   "execution_count": 30,
   "metadata": {
    "collapsed": false
   },
   "outputs": [
    {
     "name": "stdout",
     "output_type": "stream",
     "text": [
      "[[ 0.11593224  0.86970293 -0.35387703 -0.53863342]\n",
      " [-0.84210181 -0.18691459 -0.80689905  0.63456913]\n",
      " [ 0.58792237  0.4487683  -0.22547156 -0.8014756 ]]\n",
      "\n",
      "[[ 1.59188882]\n",
      " [ 1.75450983]\n",
      " [-2.09919689]\n",
      " [ 0.87445931]]\n",
      "\n",
      "[[ 1.70782106  2.62421276 -2.45307393  0.33582588]\n",
      " [ 0.74978701  1.56759524 -2.90609594  1.50902844]\n",
      " [ 2.17981119  2.20327813 -2.32466846  0.0729837 ]]\n"
     ]
    }
   ],
   "source": [
    "a = np.random.randn(3,4)\n",
    "b = np.random.randn(4,1)\n",
    "c = np.zeros(shape=(3,4))\n",
    "\n",
    "print(a)\n",
    "print()\n",
    "print(b)\n",
    "print()\n",
    "\n",
    "for i in range(3):\n",
    "    for j in range(4):\n",
    "        c[i][j] = a[i][j] + b[j]\n",
    "        \n",
    "print(c)"
   ]
  },
  {
   "cell_type": "code",
   "execution_count": 33,
   "metadata": {
    "collapsed": false
   },
   "outputs": [
    {
     "name": "stdout",
     "output_type": "stream",
     "text": [
      "[[ 1.84307881  0.83509708  1.36376763 -0.4965744 ]\n",
      " [ 0.75960355 -0.85262861  0.13642833  0.143089  ]\n",
      " [-0.63213219  0.27629616  0.26058756  0.53200483]]\n",
      "\n",
      "[[ 1.33470547]\n",
      " [ 1.49938581]\n",
      " [-0.91395282]\n",
      " [-0.71171707]]\n",
      "\n",
      "[[ 3.17778428  2.33448289  0.44981481 -1.20829146]\n",
      " [ 2.09430901  0.6467572  -0.77752449 -0.56862807]\n",
      " [ 0.70257328  1.77568198 -0.65336526 -0.17971224]]\n"
     ]
    }
   ],
   "source": [
    "a = np.random.randn(3,4)\n",
    "b = np.random.randn(4,1)\n",
    "c = np.zeros(shape=(3,4))\n",
    "\n",
    "print(a)\n",
    "print()\n",
    "print(b)\n",
    "print()\n",
    "\n",
    "c = a + b.T\n",
    "print(c)"
   ]
  },
  {
   "cell_type": "code",
   "execution_count": 36,
   "metadata": {
    "collapsed": false
   },
   "outputs": [
    {
     "ename": "ValueError",
     "evalue": "operands could not be broadcast together with shapes (4,3) (3,2) ",
     "output_type": "error",
     "traceback": [
      "\u001b[0;31m---------------------------------------------------------------------------\u001b[0m",
      "\u001b[0;31mValueError\u001b[0m                                Traceback (most recent call last)",
      "\u001b[0;32m<ipython-input-36-9631c3036c7e>\u001b[0m in \u001b[0;36m<module>\u001b[0;34m()\u001b[0m\n\u001b[1;32m      1\u001b[0m \u001b[0ma\u001b[0m \u001b[1;33m=\u001b[0m \u001b[0mnp\u001b[0m\u001b[1;33m.\u001b[0m\u001b[0mrandom\u001b[0m\u001b[1;33m.\u001b[0m\u001b[0mrandn\u001b[0m\u001b[1;33m(\u001b[0m\u001b[1;36m4\u001b[0m\u001b[1;33m,\u001b[0m\u001b[1;36m3\u001b[0m\u001b[1;33m)\u001b[0m\u001b[1;33m\u001b[0m\u001b[0m\n\u001b[1;32m      2\u001b[0m \u001b[0mb\u001b[0m \u001b[1;33m=\u001b[0m \u001b[0mnp\u001b[0m\u001b[1;33m.\u001b[0m\u001b[0mrandom\u001b[0m\u001b[1;33m.\u001b[0m\u001b[0mrandn\u001b[0m\u001b[1;33m(\u001b[0m\u001b[1;36m3\u001b[0m\u001b[1;33m,\u001b[0m\u001b[1;36m2\u001b[0m\u001b[1;33m)\u001b[0m\u001b[1;33m\u001b[0m\u001b[0m\n\u001b[0;32m----> 3\u001b[0;31m \u001b[0mc\u001b[0m \u001b[1;33m=\u001b[0m \u001b[0ma\u001b[0m\u001b[1;33m*\u001b[0m\u001b[0mb\u001b[0m\u001b[1;33m\u001b[0m\u001b[0m\n\u001b[0m\u001b[1;32m      4\u001b[0m \u001b[0mprint\u001b[0m\u001b[1;33m(\u001b[0m\u001b[0mc\u001b[0m\u001b[1;33m)\u001b[0m\u001b[1;33m\u001b[0m\u001b[0m\n",
      "\u001b[0;31mValueError\u001b[0m: operands could not be broadcast together with shapes (4,3) (3,2) "
     ]
    }
   ],
   "source": [
    "a = np.random.randn(4,3)\n",
    "b = np.random.randn(3,2)\n",
    "#c = a*b #error\n",
    "#print(c)"
   ]
  },
  {
   "cell_type": "code",
   "execution_count": 37,
   "metadata": {
    "collapsed": false
   },
   "outputs": [
    {
     "name": "stdout",
     "output_type": "stream",
     "text": [
      "[[-0.75786905 -0.08754841  0.26913668]\n",
      " [ 0.77254857 -0.17542918  1.70460067]]\n"
     ]
    }
   ],
   "source": [
    "a = np.random.randn(2,3)\n",
    "b = np.random.randn(2,1)\n",
    "c = a + b \n",
    "print(c)"
   ]
  },
  {
   "cell_type": "code",
   "execution_count": null,
   "metadata": {
    "collapsed": true
   },
   "outputs": [],
   "source": []
  }
 ],
 "metadata": {
  "kernelspec": {
   "display_name": "Python 3",
   "language": "python",
   "name": "python3"
  },
  "language_info": {
   "codemirror_mode": {
    "name": "ipython",
    "version": 3
   },
   "file_extension": ".py",
   "mimetype": "text/x-python",
   "name": "python",
   "nbconvert_exporter": "python",
   "pygments_lexer": "ipython3",
   "version": "3.6.0"
  }
 },
 "nbformat": 4,
 "nbformat_minor": 2
}
