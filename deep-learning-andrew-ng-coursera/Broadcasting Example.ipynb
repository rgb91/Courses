{
 "cells": [
  {
   "cell_type": "code",
   "execution_count": 15,
   "metadata": {
    "collapsed": false
   },
   "outputs": [
    {
     "name": "stdout",
     "output_type": "stream",
     "text": [
      "[[  56.     0.     4.4   68. ]\n",
      " [   1.2  104.    52.     8. ]\n",
      " [   1.8  135.    99.     0.9]]\n"
     ]
    }
   ],
   "source": [
    "import numpy as np\n",
    "\n",
    "A = np.array([\n",
    "    [56.0, 0.0, 4.4, 68.0],\n",
    "    [1.2, 104.0, 52.0, 8.0],\n",
    "    [1.8, 135.0, 99.0, 0.9]])\n",
    "print(A)\n",
    "\n",
    "cal = A.sum(axis=0)\n",
    "#cal.reshape(1,4)"
   ]
  },
  {
   "cell_type": "code",
   "execution_count": 16,
   "metadata": {
    "collapsed": false
   },
   "outputs": [
    {
     "name": "stdout",
     "output_type": "stream",
     "text": [
      "[[ 94.91525424   0.           2.83140283  88.42652796]\n",
      " [  2.03389831  43.51464435  33.46203346  10.40312094]\n",
      " [  3.05084746  56.48535565  63.70656371   1.17035111]]\n"
     ]
    }
   ],
   "source": [
    "percentage = 100 * A / cal\n",
    "print(percentage)"
   ]
  },
  {
   "cell_type": "code",
   "execution_count": 22,
   "metadata": {
    "collapsed": false
   },
   "outputs": [
    {
     "name": "stdout",
     "output_type": "stream",
     "text": [
      "[[-1.34157499]\n",
      " [-0.24264068]\n",
      " [-0.29886354]]\n"
     ]
    }
   ],
   "source": [
    "x = np.random.randn(3,3)\n",
    "y = np.random.randn(3,1)\n",
    "c = np.dot(x,y) #x*y\n",
    "print(c)"
   ]
  },
  {
   "cell_type": "code",
   "execution_count": null,
   "metadata": {
    "collapsed": true
   },
   "outputs": [],
   "source": []
  }
 ],
 "metadata": {
  "kernelspec": {
   "display_name": "Python 3",
   "language": "python",
   "name": "python3"
  },
  "language_info": {
   "codemirror_mode": {
    "name": "ipython",
    "version": 3
   },
   "file_extension": ".py",
   "mimetype": "text/x-python",
   "name": "python",
   "nbconvert_exporter": "python",
   "pygments_lexer": "ipython3",
   "version": "3.6.0"
  }
 },
 "nbformat": 4,
 "nbformat_minor": 2
}
